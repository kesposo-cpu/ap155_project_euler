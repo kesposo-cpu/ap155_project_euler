{
 "cells": [
  {
   "cell_type": "code",
   "execution_count": 8,
   "id": "ed2eb37d-c7ac-49ef-ac7f-698d3db22c99",
   "metadata": {},
   "outputs": [],
   "source": [
    "import matplotlib.pyplot as plt\n",
    "import numpy as np\n",
    "\n",
    "from decimal import Decimal\n",
    "from fractions import Fraction"
   ]
  },
  {
   "cell_type": "code",
   "execution_count": 2,
   "id": "bd5bdab9-8241-4f4b-a709-3516087dbb3c",
   "metadata": {},
   "outputs": [
    {
     "name": "stdout",
     "output_type": "stream",
     "text": [
      "0.30000000000000004\n"
     ]
    }
   ],
   "source": [
    "print(0.1 + 0.2)"
   ]
  },
  {
   "cell_type": "code",
   "execution_count": 7,
   "id": "6627484d-bb92-4495-a85b-d74f45be0e70",
   "metadata": {},
   "outputs": [
    {
     "name": "stdout",
     "output_type": "stream",
     "text": [
      "0.30000000000000001665\n"
     ]
    }
   ],
   "source": [
    "# How about increasing precision?\n",
    "print(np.float128(0.1) + np.float128(0.2))"
   ]
  },
  {
   "cell_type": "code",
   "execution_count": 9,
   "id": "db108139-292f-4ffd-8f55-4461738d9ca3",
   "metadata": {},
   "outputs": [
    {
     "name": "stdout",
     "output_type": "stream",
     "text": [
      "0.2998\n"
     ]
    }
   ],
   "source": [
    "# How bad is decreasing precision?\n",
    "print(np.float16(0.1) + np.float16(0.2))"
   ]
  },
  {
   "cell_type": "code",
   "execution_count": 10,
   "id": "f60d9acb-9c34-406c-b79e-2764eda92a82",
   "metadata": {},
   "outputs": [
    {
     "name": "stdout",
     "output_type": "stream",
     "text": [
      "0.3000000000000000166533453694\n"
     ]
    }
   ],
   "source": [
    "# Closest we could get to fixed-point arithmetic: decimal\n",
    "print(Decimal(0.1) + Decimal(0.2))"
   ]
  },
  {
   "cell_type": "code",
   "execution_count": 11,
   "id": "2f7afabc-3cab-45f8-a94c-0f5d867e7923",
   "metadata": {},
   "outputs": [
    {
     "name": "stdout",
     "output_type": "stream",
     "text": [
      "0.3\n"
     ]
    }
   ],
   "source": [
    "# How about using an explicit Fraction object type?\n",
    "print(float(Fraction(1, 10) + Fraction(1, 5)))"
   ]
  },
  {
   "cell_type": "code",
   "execution_count": 35,
   "id": "34c1ef3e-812a-49db-90c6-d20adfc99cbf",
   "metadata": {},
   "outputs": [
    {
     "name": "stdout",
     "output_type": "stream",
     "text": [
      "-100000000.0\n",
      "-7.450580596923828e-09\n",
      "-1e-08\n"
     ]
    }
   ],
   "source": [
    "a = 1\n",
    "b = 10**8\n",
    "c = 1\n",
    "\n",
    "# a. x_-\n",
    "x_minus = ((-b - np.sqrt(b**2 - 4*a*c)) / 2*a) \n",
    "print(x_minus)\n",
    "\n",
    "# b x_+ using bad formula\n",
    "x_plus_bad = ((-b + np.sqrt(b**2 - 4*a*c)) / 2*a) \n",
    "print(x_plus_bad) \n",
    "\n",
    "# c. x_plus using good formula\n",
    "x_plus_good = c/(a*x_minus)\n",
    "print(x_plus_good) "
   ]
  },
  {
   "cell_type": "code",
   "execution_count": 45,
   "id": "f8adb480-f0dd-4dde-8254-c37606c548ca",
   "metadata": {},
   "outputs": [
    {
     "name": "stdout",
     "output_type": "stream",
     "text": [
      "b=10^1.0\n",
      "x_minus: -50000000.49999999\n",
      "x_plus_log_bad: 49999999.49999999\n",
      "x_plus_log_good: -1.9801980198019803e-10\n",
      "b=10^12.91549665014884\n",
      "x_minus: -50000006.457748316\n",
      "x_plus_log_bad: 49999993.54225167\n",
      "x_plus_log_good: -1.9801980198019803e-10\n",
      "b=10^166.81005372000593\n",
      "x_minus: -50000083.40502685\n",
      "x_plus_log_bad: 49999916.59497313\n",
      "x_plus_log_good: -1.9801980198019803e-10\n",
      "b=10^2154.4346900318847\n",
      "x_minus: -50001077.21734501\n",
      "x_plus_log_bad: 49998922.78265498\n",
      "x_plus_log_good: -1.9801980198019803e-10\n",
      "b=10^27825.59402207126\n",
      "x_minus: -50013912.797011025\n",
      "x_plus_log_bad: 49986087.20298896\n",
      "x_plus_log_good: -1.9801980198019803e-10\n",
      "b=10^359381.36638046254\n",
      "x_minus: -50179690.68319023\n",
      "x_plus_log_bad: 49820309.31680976\n",
      "x_plus_log_good: -1.9801980198019803e-10\n",
      "b=10^4641588.833612782\n",
      "x_minus: -52320794.416806385\n",
      "x_plus_log_bad: 47679205.5831936\n",
      "x_plus_log_good: -1.9801980198019803e-10\n",
      "b=10^59948425.03189421\n",
      "x_minus: -79974212.5159471\n",
      "x_plus_log_bad: 20025787.48405289\n",
      "x_plus_log_good: -1.9801980198019803e-10\n",
      "b=10^774263682.6811278\n",
      "x_minus: -437131841.3405639\n",
      "x_plus_log_bad: -337131841.3405639\n",
      "x_plus_log_good: -1.9801980198019803e-10\n",
      "b=10^10000000000.0\n",
      "x_minus: -5050000000.0\n",
      "x_plus_log_bad: -4950000000.0\n",
      "x_plus_log_good: -1.9801980198019803e-10\n"
     ]
    }
   ],
   "source": [
    "# d. use np.logspace\n",
    "\n",
    "a, c = 1, 1\n",
    "\n",
    "for b_new in np.logspace(0, 10, 10):\n",
    "    x_minus_log = ((-b_new - np.sqrt(b**2 - 4*a*c)) / 2*a) \n",
    "    x_plus_log_bad = ((-b_new + np.sqrt(b**2 - 4*a*c)) / 2*a) \n",
    "    x_plus_log_good = c/(a*x_minus)\n",
    "\n",
    "    print(f\"b=10^{b_new}\")\n",
    "    print(f\"x_minus: {x_minus_log}\")\n",
    "    print(f\"x_plus_log_bad: {x_plus_log_bad}\")\n",
    "    print(f\"x_plus_log_good: {x_plus_log_good}\")"
   ]
  },
  {
   "cell_type": "code",
   "execution_count": 46,
   "id": "7c30f1a7-e6b6-4f39-a36a-8a1b759e80fe",
   "metadata": {},
   "outputs": [
    {
     "name": "stdout",
     "output_type": "stream",
     "text": [
      "4.98 μs ± 27.7 ns per loop (mean ± std. dev. of 7 runs, 100,000 loops each)\n"
     ]
    }
   ],
   "source": [
    "%%timeit\n",
    "a = np.float128(1.0)\n",
    "c = np.float128(1.0)\n",
    "b = np.float128(10.0**8)\n",
    "\n",
    "x_plus = (-b + np.sqrt(b**2 - 4*a*c))/(2*a)\n",
    "x_minus = (-b - np.sqrt(b**2 - 4*a*c))/(2*a)\n"
   ]
  },
  {
   "cell_type": "markdown",
   "id": "cae54581-f932-4014-8ea8-ccbeb241c63a",
   "metadata": {},
   "source": [
    "Problem 2.8"
   ]
  },
  {
   "cell_type": "code",
   "execution_count": 83,
   "id": "5dbca82b-caf3-4305-9db0-a6a431cd5e90",
   "metadata": {},
   "outputs": [
    {
     "name": "stdout",
     "output_type": "stream",
     "text": [
      "0.7709882115452477\n",
      "0.5\n"
     ]
    },
    {
     "data": {
      "image/png": "[encoded data removed]",
      "text/plain": [
       "<Figure size 640x480 with 1 Axes>"
      ]
     },
     "metadata": {},
     "output_type": "display_data"
    }
   ],
   "source": [
    "# initialize grid\n",
    "\n",
    "x = np.linspace(0.1, 10, 50)\n",
    "y = np.zeros(len(x))\n",
    "    \n",
    "for i in range(len(x)):\n",
    "    y[i] = (1 - np.cos(x[i])) / (x[i]**2)\n",
    "\n",
    "# (a) plot the function\n",
    "\n",
    "fig, ax = plt.subplots()\n",
    "\n",
    "ax.scatter(x, y, s=50)\n",
    "ax.grid(True)\n",
    "\n",
    "# (c) \n",
    "\n",
    "x = 1.2 * 10**(-8)\n",
    "function = (1 - np.cos(x)) / (x**2)\n",
    "print(function)\n",
    "\n",
    "# (d) Use  1 - cos x = 2sin^2(x/2)\n",
    "\n",
    "x = 1.2 * 10**(-8)\n",
    "function = (2*(np.sin(x/2))**2)/x**2\n",
    "print(function)"
   ]
  },
  {
   "cell_type": "code",
   "execution_count": null,
   "id": "7dd08d38-a1b1-4add-8b3d-61624c733f78",
   "metadata": {},
   "outputs": [],
   "source": []
  }
 ],
 "metadata": {
  "kernelspec": {
   "display_name": "Python [conda env:base] *",
   "language": "python",
   "name": "conda-base-py"
  },
  "language_info": {
   "codemirror_mode": {
    "name": "ipython",
    "version": 3
   },
   "file_extension": ".py",
   "mimetype": "text/x-python",
   "name": "python",
   "nbconvert_exporter": "python",
   "pygments_lexer": "ipython3",
   "version": "3.12.11"
  }
 },
 "nbformat": 4,
 "nbformat_minor": 5
}
