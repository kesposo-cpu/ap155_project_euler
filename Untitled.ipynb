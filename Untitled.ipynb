{
 "cells": [
  {
   "cell_type": "code",
   "execution_count": 2,
   "id": "f098aa1c-053d-487e-9385-bb4a920cacb0",
   "metadata": {},
   "outputs": [
    {
     "data": {
      "text/plain": [
       "'3.1-2.5'"
      ]
     },
     "execution_count": 2,
     "metadata": {},
     "output_type": "execute_result"
    }
   ],
   "source": [
    "x,y = 3.1, -2.5\n",
    "\"{0}{1}\".format(x,y)"
   ]
  },
  {
   "cell_type": "code",
   "execution_count": 3,
   "id": "29b49688-7336-4aa1-9a57-37b22b8b2de6",
   "metadata": {},
   "outputs": [
    {
     "ename": "NameError",
     "evalue": "name 'forelse' is not defined",
     "output_type": "error",
     "traceback": [
      "\u001b[31m---------------------------------------------------------------------------\u001b[39m",
      "\u001b[31mNameError\u001b[39m                                 Traceback (most recent call last)",
      "\u001b[36mCell\u001b[39m\u001b[36m \u001b[39m\u001b[32mIn[3]\u001b[39m\u001b[32m, line 1\u001b[39m\n\u001b[32m----> \u001b[39m\u001b[32m1\u001b[39m \u001b[43mforelse\u001b[49m.py\n",
      "\u001b[31mNameError\u001b[39m: name 'forelse' is not defined"
     ]
    }
   ],
   "source": [
    "forelse.py"
   ]
  },
  {
   "cell_type": "code",
   "execution_count": 4,
   "id": "f27fc021-0719-450d-aee2-675105315ab3",
   "metadata": {},
   "outputs": [
    {
     "name": "stdout",
     "output_type": "stream",
     "text": [
      "Eve\n",
      "None\n"
     ]
    }
   ],
   "source": [
    "def look(target, names):\n",
    "    for name in names:\n",
    "        if name==target:\n",
    "            val = name\n",
    "            break\n",
    "    else:\n",
    "        val = None\n",
    "    return val\n",
    "\n",
    "names = [\"Alice\", \"Bob\", \"Eve\"]\n",
    "print(look(\"Eve\", names))\n",
    "print(look(\"Jack\", names))"
   ]
  },
  {
   "cell_type": "code",
   "execution_count": null,
   "id": "a243bab6-0fb3-4f0a-bab8-a05a12fca8f0",
   "metadata": {},
   "outputs": [],
   "source": []
  }
 ],
 "metadata": {
  "kernelspec": {
   "display_name": "Python [conda env:base] *",
   "language": "python",
   "name": "conda-base-py"
  },
  "language_info": {
   "codemirror_mode": {
    "name": "ipython",
    "version": 3
   },
   "file_extension": ".py",
   "mimetype": "text/x-python",
   "name": "python",
   "nbconvert_exporter": "python",
   "pygments_lexer": "ipython3",
   "version": "3.12.11"
  }
 },
 "nbformat": 4,
 "nbformat_minor": 5
}
