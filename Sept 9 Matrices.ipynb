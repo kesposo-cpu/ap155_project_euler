{
 "cells": [
  {
   "cell_type": "code",
   "execution_count": 3,
   "id": "dc86b3e4-cc94-49df-9ba2-2b85b97b2472",
   "metadata": {},
   "outputs": [
    {
     "data": {
      "text/plain": [
       "array([-1.00000000e-08,  1.00000002e-08])"
      ]
     },
     "execution_count": 3,
     "metadata": {},
     "output_type": "execute_result"
    }
   ],
   "source": [
    "import numpy as np\n",
    "\n",
    "A = np.array([[0.2161, 0.1441], [1.2969, 0.8648]])\n",
    "b = np.array([0.1440, 0.8642])\n",
    "\n",
    "x_t = np.array([0.9911, -0.4870])\n",
    "\n",
    "r = b - A@x_t # matrix multiplication\n",
    "r"
   ]
  },
  {
   "cell_type": "code",
   "execution_count": 8,
   "id": "c285fdaa-5588-44c1-b2b5-90f3c68d61c1",
   "metadata": {},
   "outputs": [
    {
     "data": {
      "text/plain": [
       "array([ 2., -2.])"
      ]
     },
     "execution_count": 8,
     "metadata": {},
     "output_type": "execute_result"
    }
   ],
   "source": [
    "np.linalg.solve(A, b) # solution of a x = b for x"
   ]
  },
  {
   "cell_type": "code",
   "execution_count": 4,
   "id": "b495a851-19d7-4d8e-8120-5f4b51394101",
   "metadata": {},
   "outputs": [
    {
     "data": {
      "text/plain": [
       "array([0.144 , 0.8642])"
      ]
     },
     "execution_count": 4,
     "metadata": {},
     "output_type": "execute_result"
    }
   ],
   "source": []
  },
  {
   "cell_type": "code",
   "execution_count": null,
   "id": "bd2310b3-a7ca-4d9c-85ca-b444e7c75eef",
   "metadata": {},
   "outputs": [],
   "source": []
  }
 ],
 "metadata": {
  "kernelspec": {
   "display_name": "Python [conda env:base] *",
   "language": "python",
   "name": "conda-base-py"
  },
  "language_info": {
   "codemirror_mode": {
    "name": "ipython",
    "version": 3
   },
   "file_extension": ".py",
   "mimetype": "text/x-python",
   "name": "python",
   "nbconvert_exporter": "python",
   "pygments_lexer": "ipython3",
   "version": "3.12.11"
  }
 },
 "nbformat": 4,
 "nbformat_minor": 5
}
