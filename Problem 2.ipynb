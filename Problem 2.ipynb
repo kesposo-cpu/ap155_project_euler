{
 "cells": [
  {
   "cell_type": "code",
   "execution_count": 2,
   "id": "8220e06c-5451-4030-93e2-63b65ff2941e",
   "metadata": {},
   "outputs": [
    {
     "name": "stdout",
     "output_type": "stream",
     "text": [
      "4613732\n"
     ]
    }
   ],
   "source": [
    "def sum_even_fibonacci(range):\n",
    "    a, b = 1, 2  \n",
    "    even_sum = 0  \n",
    "    while a < range:\n",
    "        if a % 2 == 0:  \n",
    "            even_sum += a  \n",
    "        a, b = b, a + b  \n",
    "    return even_sum\n",
    "\n",
    "range = 4000000\n",
    "result = sum_even_fibonacci(limit)\n",
    "print(result)"
   ]
  },
  {
   "cell_type": "code",
   "execution_count": null,
   "id": "fd526898-e0d8-4ab6-ba5c-50508e4e8cc4",
   "metadata": {},
   "outputs": [],
   "source": []
  }
 ],
 "metadata": {
  "kernelspec": {
   "display_name": "Python [conda env:base] *",
   "language": "python",
   "name": "conda-base-py"
  },
  "language_info": {
   "codemirror_mode": {
    "name": "ipython",
    "version": 3
   },
   "file_extension": ".py",
   "mimetype": "text/x-python",
   "name": "python",
   "nbconvert_exporter": "python",
   "pygments_lexer": "ipython3",
   "version": "3.12.11"
  }
 },
 "nbformat": 4,
 "nbformat_minor": 5
}
