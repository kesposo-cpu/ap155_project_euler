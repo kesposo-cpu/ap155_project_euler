{
 "cells": [
  {
   "cell_type": "code",
   "execution_count": null,
   "id": "8220e06c-5451-4030-93e2-63b65ff2941e",
   "metadata": {},
   "outputs": [],
   "source": [
    "def summation(the_number):\n",
    "    x = range(1,the_number)\n",
    "    multiples_3 = []\n",
    "    for y in x:\n",
    "        remainder = y % 3\n",
    "        if remainder == 0:\n",
    "            multiples_3.append(y)\n",
    "\n",
    "    multiples_5 = []\n",
    "    for z in x:\n",
    "        remainder = z % 5\n",
    "        if remainder == 0:\n",
    "            multiples_5.append(z)\n",
    "\n",
    "    mult_3or5 = set(multiples_3 + multiples_5)\n",
    "\n",
    "    return sum(mult_3or5)\n",
    "\n",
    "print(summation(1000))"
   ]
  }
 ],
 "metadata": {
  "kernelspec": {
   "display_name": "Python 3 (ipykernel)",
   "language": "python",
   "name": "python3"
  },
  "language_info": {
   "codemirror_mode": {
    "name": "ipython",
    "version": 3
   },
   "file_extension": ".py",
   "mimetype": "text/x-python",
   "name": "python",
   "nbconvert_exporter": "python",
   "pygments_lexer": "ipython3",
   "version": "3.12.11"
  }
 },
 "nbformat": 4,
 "nbformat_minor": 5
}
