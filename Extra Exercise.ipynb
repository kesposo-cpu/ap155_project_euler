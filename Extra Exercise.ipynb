{
 "cells": [
  {
   "cell_type": "code",
   "execution_count": 3,
   "id": "71938634-8721-473a-8d73-ff08cae4e7ce",
   "metadata": {},
   "outputs": [
    {
     "data": {
      "text/plain": [
       "[[6, 1, 9, 9, 3], [7, 2, 1, 7, 7], [2, 4, 9, 3, 7], [7, 1, 1, 1, 3]]"
      ]
     },
     "execution_count": 3,
     "metadata": {},
     "output_type": "execute_result"
    }
   ],
   "source": [
    "import random\n",
    "\n",
    "def random_integer_matrix(nrows, ncols):\n",
    "    output_matrix = []\n",
    "\n",
    "    for col in range(ncols):\n",
    "        new_col = []\n",
    "        for row in range(nrows):\n",
    "            pick_number = random.randint(1, 9)\n",
    "            new_col.append(pick_number)\n",
    "        output_matrix.append(new_col)\n",
    "    return output_matrix\n",
    "\n",
    "\n",
    "random_integer_matrix(5,4)\n"
   ]
  },
  {
   "cell_type": "code",
   "execution_count": 15,
   "id": "b461ddfe-7ce5-4f73-9b85-d24c9af3396c",
   "metadata": {},
   "outputs": [
    {
     "data": {
      "text/plain": [
       "32"
      ]
     },
     "execution_count": 15,
     "metadata": {},
     "output_type": "execute_result"
    }
   ],
   "source": [
    "def scalar_product(list1, list2):\n",
    "    total_product = 0\n",
    "\n",
    "    for i in range(len(list1)):\n",
    "        total_product += list1[i] * list2[i]\n",
    "        \n",
    "    return total_product\n",
    "\n",
    "scalar_product([1,2,3], [4,5,6])"
   ]
  },
  {
   "cell_type": "code",
   "execution_count": 34,
   "id": "b6362081-8569-4795-b7f4-4aa53ab8e0ac",
   "metadata": {},
   "outputs": [
    {
     "data": {
      "text/plain": [
       "[[1, 5], [2, 6], [3, 7], [4, 8]]"
      ]
     },
     "execution_count": 34,
     "metadata": {},
     "output_type": "execute_result"
    }
   ],
   "source": [
    "my_input = [\n",
    " [1, 2, 3, 4],\n",
    " [5, 6, 7, 8]\n",
    "]\n",
    "\n",
    "\n",
    "#>> [\n",
    "#    [1, 5],\n",
    "#    [2, 6],\n",
    "#    [3, 7],\n",
    "#    [4, 8]\n",
    "#]\n",
    "\n",
    "def transpose_matrix(input_matrix):\n",
    "    ncols = len(input_matrix)\n",
    "    nrows = len(input_matrix[0])\n",
    "\n",
    "\n",
    "    output_matrix = []\n",
    "    for i in range(nrows):\n",
    "        new_col = []\n",
    "        for j in range(ncols):\n",
    "            new_col.append(0)\n",
    "        output_matrix.append(new_col)\n",
    "\n",
    "    for i in range(nrows):\n",
    "        for j in range(ncols):\n",
    "            output_matrix[i][j] = input_matrix[j][j]\n",
    "\n",
    "    return output_matrix\n",
    "\n",
    "transpose_matrix(my_input)"
   ]
  },
  {
   "cell_type": "code",
   "execution_count": 38,
   "id": "e0c26ad3-336d-4e91-9417-e8be994af273",
   "metadata": {},
   "outputs": [],
   "source": [
    "left matrix = [\n",
    " [1, 2, 3, 4],\n",
    " [5, 6, 7, 8]\n",
    "]\n",
    "\n",
    "\n",
    "right matrix = [\n",
    "    [1, 5],\n",
    "   [2, 6],\n",
    "   [3, 7],\n",
    "   [4, 8]\n",
    "#]def matrix_multiply(left_matrix, right_matrix):\n",
    "    ncols = len(input_matrix)\n",
    "    nrows = len(input_matrix[0])\n",
    "\n",
    "    output_matrix = []\n",
    "    for i in range(nrows):\n",
    "        new_col = []\n",
    "        for j in range(ncols):\n",
    "            new_col.append(0)\n",
    "        output_matrix.append(new_col)\n",
    "\n",
    "    for i in range(nrows):\n",
    "        for j in range(ncols):\n",
    "            output_matrix[i][j] = input_matrix[j][i]\n",
    "\n",
    "    for i in range(len(list1)):\n",
    "        total_product += list1[i] * list2[i]\n",
    "        \n",
    "    return output_matrix\n",
    "\n",
    "    "
   ]
  },
  {
   "cell_type": "code",
   "execution_count": null,
   "id": "633fd15e-b178-4768-a7c1-bee86136a267",
   "metadata": {},
   "outputs": [],
   "source": []
  },
  {
   "cell_type": "code",
   "execution_count": null,
   "id": "139a0c5f-7da1-4c86-845b-b5c2b8b0ccd0",
   "metadata": {},
   "outputs": [],
   "source": []
  }
 ],
 "metadata": {
  "kernelspec": {
   "display_name": "Python [conda env:base] *",
   "language": "python",
   "name": "conda-base-py"
  },
  "language_info": {
   "codemirror_mode": {
    "name": "ipython",
    "version": 3
   },
   "file_extension": ".py",
   "mimetype": "text/x-python",
   "name": "python",
   "nbconvert_exporter": "python",
   "pygments_lexer": "ipython3",
   "version": "3.12.11"
  }
 },
 "nbformat": 4,
 "nbformat_minor": 5
}
